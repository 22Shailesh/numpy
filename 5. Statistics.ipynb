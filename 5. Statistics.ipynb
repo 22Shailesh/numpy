{
 "cells": [
  {
   "cell_type": "markdown",
   "metadata": {},
   "source": [
    "## Satistics - Introduction\n",
    "\n",
    "https://numpy.org/doc/stable/reference/routines.statistics.html"
   ]
  },
  {
   "cell_type": "code",
   "execution_count": 45,
   "metadata": {},
   "outputs": [],
   "source": [
    "import numpy as np\n",
    "import pandas as pd"
   ]
  },
  {
   "cell_type": "markdown",
   "metadata": {},
   "source": [
    "### 1. Simple Statistical Exploration"
   ]
  },
  {
   "cell_type": "code",
   "execution_count": 2,
   "metadata": {},
   "outputs": [
    {
     "data": {
      "text/plain": [
       "array([[3.34724415e-01, 2.04777906e-01, 1.99627538e-01, 6.35151993e-01,\n",
       "        1.64831443e-01, 6.17587238e-01, 2.29965338e-01, 2.20358722e-01,\n",
       "        5.40026796e-01, 1.67814578e-01],\n",
       "       [3.27191767e-01, 5.79706127e-01, 8.34950616e-01, 7.46962412e-01,\n",
       "        9.26865452e-01, 6.94767924e-01, 7.15425861e-01, 7.72412109e-01,\n",
       "        5.82276218e-01, 3.44061867e-01],\n",
       "       [3.00373097e-01, 4.48969721e-01, 8.25552544e-01, 6.84135674e-02,\n",
       "        7.58687727e-01, 7.40892096e-01, 9.79354780e-01, 8.16069097e-01,\n",
       "        8.06915680e-01, 1.77430444e-01],\n",
       "       [7.12879332e-01, 9.53500293e-01, 6.07398916e-01, 7.18440752e-01,\n",
       "        4.43100019e-01, 4.90743958e-01, 1.89683400e-01, 4.63703905e-01,\n",
       "        2.21953702e-01, 9.77571661e-01],\n",
       "       [6.96730643e-02, 4.08213767e-01, 2.58634172e-01, 7.71271830e-01,\n",
       "        7.51190806e-01, 2.20280988e-01, 1.60499953e-01, 3.46582902e-01,\n",
       "        1.47606290e-01, 9.71959879e-02],\n",
       "       [9.41150053e-02, 5.38185661e-01, 1.56243566e-01, 9.89682258e-01,\n",
       "        2.53076171e-01, 1.79101806e-01, 6.08216425e-01, 9.01913370e-03,\n",
       "        1.01062288e-01, 1.94924013e-01],\n",
       "       [4.34998992e-02, 4.23746634e-01, 4.83374124e-02, 8.31384015e-02,\n",
       "        2.29408059e-01, 9.57798288e-01, 8.56730038e-01, 9.46037532e-01,\n",
       "        4.44353193e-02, 6.44918854e-02],\n",
       "       [1.59090916e-02, 2.29170352e-02, 8.66979296e-01, 1.81922949e-01,\n",
       "        4.50548232e-01, 9.07503469e-02, 4.26481562e-01, 4.50817601e-01,\n",
       "        4.60958478e-01, 4.13293085e-01],\n",
       "       [3.80431338e-01, 4.11926031e-02, 3.93587453e-01, 9.58538168e-01,\n",
       "        9.07440477e-01, 3.61139593e-02, 5.95606027e-01, 7.59195712e-01,\n",
       "        3.90993146e-01, 6.06726165e-01],\n",
       "       [5.97042313e-01, 7.77374529e-02, 9.24777449e-01, 1.51237837e-01,\n",
       "        2.59622884e-01, 9.82299206e-02, 3.02845018e-01, 2.40193030e-01,\n",
       "        2.94016410e-04, 4.51881271e-04]])"
      ]
     },
     "execution_count": 2,
     "metadata": {},
     "output_type": "execute_result"
    }
   ],
   "source": [
    "A = np.random.rand(10,10)\n",
    "A"
   ]
  },
  {
   "cell_type": "code",
   "execution_count": 3,
   "metadata": {},
   "outputs": [
    {
     "data": {
      "text/plain": [
       "(10, 10)"
      ]
     },
     "execution_count": 3,
     "metadata": {},
     "output_type": "execute_result"
    }
   ],
   "source": [
    "A.shape"
   ]
  },
  {
   "cell_type": "code",
   "execution_count": 4,
   "metadata": {},
   "outputs": [
    {
     "data": {
      "text/plain": [
       "0.9896822575190206"
      ]
     },
     "execution_count": 4,
     "metadata": {},
     "output_type": "execute_result"
    }
   ],
   "source": [
    "A.max()"
   ]
  },
  {
   "cell_type": "code",
   "execution_count": 5,
   "metadata": {},
   "outputs": [
    {
     "data": {
      "text/plain": [
       "0.0002940164103432119"
      ]
     },
     "execution_count": 5,
     "metadata": {},
     "output_type": "execute_result"
    }
   ],
   "source": [
    "A.min()"
   ]
  },
  {
   "cell_type": "code",
   "execution_count": 6,
   "metadata": {},
   "outputs": [
    {
     "data": {
      "text/plain": [
       "0.426963550934505"
      ]
     },
     "execution_count": 6,
     "metadata": {},
     "output_type": "execute_result"
    }
   ],
   "source": [
    "A.mean()"
   ]
  },
  {
   "cell_type": "code",
   "execution_count": 7,
   "metadata": {},
   "outputs": [
    {
     "data": {
      "text/plain": [
       "0.3922902994383965"
      ]
     },
     "execution_count": 7,
     "metadata": {},
     "output_type": "execute_result"
    }
   ],
   "source": [
    "np.median(A)"
   ]
  },
  {
   "cell_type": "code",
   "execution_count": 8,
   "metadata": {},
   "outputs": [
    {
     "data": {
      "text/plain": [
       "0.302883637514015"
      ]
     },
     "execution_count": 8,
     "metadata": {},
     "output_type": "execute_result"
    }
   ],
   "source": [
    "A.std()"
   ]
  },
  {
   "cell_type": "code",
   "execution_count": 16,
   "metadata": {},
   "outputs": [
    {
     "data": {
      "text/plain": [
       "array([[ 0.03646957, -0.0005233 , -0.01214961, -0.010931  ,  0.00516709,\n",
       "         0.01639217,  0.00085769, -0.01955129, -0.0075899 , -0.01739393],\n",
       "       [-0.0005233 ,  0.03875586,  0.0349422 , -0.02551802,  0.0327236 ,\n",
       "         0.01127342,  0.02439794,  0.02412787,  0.02224562,  0.01181266],\n",
       "       [-0.01214961,  0.0349422 ,  0.10027264, -0.06815371, -0.01485751,\n",
       "        -0.03772985,  0.06677551,  0.04233022, -0.01535313,  0.01997402],\n",
       "       [-0.010931  , -0.02551802, -0.06815371,  0.07287469,  0.00474689,\n",
       "         0.01262358, -0.04076929, -0.02474238, -0.01410162, -0.00335035],\n",
       "       [ 0.00516709,  0.0327236 , -0.01485751,  0.00474689,  0.06434864,\n",
       "         0.04276163, -0.00895519, -0.00288492,  0.04569922, -0.00880882],\n",
       "       [ 0.01639217,  0.01127342, -0.03772985,  0.01262358,  0.04276163,\n",
       "         0.09344698, -0.00630505, -0.02286083,  0.02749976, -0.01850532],\n",
       "       [ 0.00085769,  0.02439794,  0.06677551, -0.04076929, -0.00895519,\n",
       "        -0.00630505,  0.1587303 , -0.01703202, -0.02379356, -0.02491198],\n",
       "       [-0.01955129,  0.02412787,  0.04233022, -0.02474238, -0.00288492,\n",
       "        -0.02286083, -0.01703202,  0.06914923,  0.02756656,  0.03417018],\n",
       "       [-0.0075899 ,  0.02224562, -0.01535313, -0.01410162,  0.04569922,\n",
       "         0.02749976, -0.02379356,  0.02756656,  0.10296535, -0.00035488],\n",
       "       [-0.01739393,  0.01181266,  0.01997402, -0.00335035, -0.00880882,\n",
       "        -0.01850532, -0.02491198,  0.03417018, -0.00035488,  0.08483452]])"
      ]
     },
     "execution_count": 16,
     "metadata": {},
     "output_type": "execute_result"
    }
   ],
   "source": [
    "np.cov(A)"
   ]
  },
  {
   "cell_type": "markdown",
   "metadata": {},
   "source": [
    "#### Mean and std of row"
   ]
  },
  {
   "cell_type": "code",
   "execution_count": 9,
   "metadata": {},
   "outputs": [
    {
     "data": {
      "text/plain": [
       "array([0.28758393, 0.36989472, 0.5116089 , 0.53047602, 0.51447713,\n",
       "       0.41262665, 0.50648084, 0.50243897, 0.32965219, 0.30439616])"
      ]
     },
     "execution_count": 9,
     "metadata": {},
     "output_type": "execute_result"
    }
   ],
   "source": [
    "np.mean(A,axis =0)"
   ]
  },
  {
   "cell_type": "code",
   "execution_count": 10,
   "metadata": {},
   "outputs": [
    {
     "data": {
      "text/plain": [
       "array([0.22528104, 0.27651716, 0.32022573, 0.3498811 , 0.28038112,\n",
       "       0.31119565, 0.27434055, 0.29226951, 0.25370837, 0.28242303])"
      ]
     },
     "execution_count": 10,
     "metadata": {},
     "output_type": "execute_result"
    }
   ],
   "source": [
    "np.std(A,axis =0)"
   ]
  },
  {
   "cell_type": "markdown",
   "metadata": {},
   "source": [
    "#### Mean and std of col"
   ]
  },
  {
   "cell_type": "code",
   "execution_count": 11,
   "metadata": {},
   "outputs": [
    {
     "data": {
      "text/plain": [
       "array([0.3314866 , 0.65246204, 0.59226588, 0.57789759, 0.32311498,\n",
       "       0.31236263, 0.36976235, 0.33805777, 0.5069825 , 0.26524318])"
      ]
     },
     "execution_count": 11,
     "metadata": {},
     "output_type": "execute_result"
    }
   ],
   "source": [
    "np.mean(A,axis =1)"
   ]
  },
  {
   "cell_type": "code",
   "execution_count": 12,
   "metadata": {},
   "outputs": [
    {
     "data": {
      "text/plain": [
       "array([0.18117011, 0.18676262, 0.30040868, 0.25610002, 0.24065281,\n",
       "       0.29000394, 0.37796464, 0.24946805, 0.30441553, 0.27631696])"
      ]
     },
     "execution_count": 12,
     "metadata": {},
     "output_type": "execute_result"
    }
   ],
   "source": [
    "np.std(A,axis = 1)"
   ]
  },
  {
   "cell_type": "markdown",
   "metadata": {},
   "source": [
    "### 2. Feature Scaling:"
   ]
  },
  {
   "cell_type": "markdown",
   "metadata": {},
   "source": [
    "- 1. Mini-max scalar"
   ]
  },
  {
   "cell_type": "code",
   "execution_count": 106,
   "metadata": {},
   "outputs": [
    {
     "data": {
      "text/plain": [
       "array([[84, 97, 73, 47, 74, 54, 91, 44, 85, 88],\n",
       "       [80, 25, 42, 35, 97, 14, 50, 47, 69, 60],\n",
       "       [39, 49, 92, 12, 73,  0, 31, 65, 45, 65],\n",
       "       [95, 15, 14, 70, 31, 28, 96,  9, 29, 30],\n",
       "       [90, 48, 44,  4, 61, 24, 53, 25, 16, 28],\n",
       "       [22, 69, 36, 47, 27, 88,  9, 52, 38, 41],\n",
       "       [90,  3, 71, 39, 63, 72, 56,  8, 30, 76],\n",
       "       [52, 74, 85, 56, 49, 36, 67, 15, 24,  6],\n",
       "       [ 4, 41, 51, 71, 87, 68, 38, 75,  9, 18],\n",
       "       [46, 88, 49, 63, 59, 91, 92, 62, 23, 97]])"
      ]
     },
     "execution_count": 106,
     "metadata": {},
     "output_type": "execute_result"
    }
   ],
   "source": [
    "A = (100*np.random.rand(10,10)).astype(int)\n",
    "A"
   ]
  },
  {
   "cell_type": "code",
   "execution_count": 107,
   "metadata": {},
   "outputs": [],
   "source": [
    "A_mm = A - A.min()/A.max()-A.min()"
   ]
  },
  {
   "cell_type": "code",
   "execution_count": 108,
   "metadata": {},
   "outputs": [
    {
     "data": {
      "text/plain": [
       "array([[84., 97., 73., 47., 74., 54., 91., 44., 85., 88.],\n",
       "       [80., 25., 42., 35., 97., 14., 50., 47., 69., 60.],\n",
       "       [39., 49., 92., 12., 73.,  0., 31., 65., 45., 65.],\n",
       "       [95., 15., 14., 70., 31., 28., 96.,  9., 29., 30.],\n",
       "       [90., 48., 44.,  4., 61., 24., 53., 25., 16., 28.],\n",
       "       [22., 69., 36., 47., 27., 88.,  9., 52., 38., 41.],\n",
       "       [90.,  3., 71., 39., 63., 72., 56.,  8., 30., 76.],\n",
       "       [52., 74., 85., 56., 49., 36., 67., 15., 24.,  6.],\n",
       "       [ 4., 41., 51., 71., 87., 68., 38., 75.,  9., 18.],\n",
       "       [46., 88., 49., 63., 59., 91., 92., 62., 23., 97.]])"
      ]
     },
     "execution_count": 108,
     "metadata": {},
     "output_type": "execute_result"
    }
   ],
   "source": [
    "A_mm"
   ]
  },
  {
   "cell_type": "code",
   "execution_count": 109,
   "metadata": {},
   "outputs": [
    {
     "name": "stderr",
     "output_type": "stream",
     "text": [
      "C:\\ProgramData\\Anaconda3\\lib\\site-packages\\sklearn\\utils\\validation.py:595: DataConversionWarning: Data with input dtype int32 was converted to float64 by MinMaxScaler.\n",
      "  warnings.warn(msg, DataConversionWarning)\n"
     ]
    },
    {
     "data": {
      "text/plain": [
       "array([[0.87912088, 1.        , 0.75641026, 0.64179104, 0.67142857,\n",
       "        0.59340659, 0.94252874, 0.53731343, 1.        , 0.9010989 ],\n",
       "       [0.83516484, 0.23404255, 0.35897436, 0.46268657, 1.        ,\n",
       "        0.15384615, 0.47126437, 0.58208955, 0.78947368, 0.59340659],\n",
       "       [0.38461538, 0.4893617 , 1.        , 0.11940299, 0.65714286,\n",
       "        0.        , 0.25287356, 0.85074627, 0.47368421, 0.64835165],\n",
       "       [1.        , 0.12765957, 0.        , 0.98507463, 0.05714286,\n",
       "        0.30769231, 1.        , 0.01492537, 0.26315789, 0.26373626],\n",
       "       [0.94505495, 0.4787234 , 0.38461538, 0.        , 0.48571429,\n",
       "        0.26373626, 0.50574713, 0.25373134, 0.09210526, 0.24175824],\n",
       "       [0.1978022 , 0.70212766, 0.28205128, 0.64179104, 0.        ,\n",
       "        0.96703297, 0.        , 0.65671642, 0.38157895, 0.38461538],\n",
       "       [0.94505495, 0.        , 0.73076923, 0.52238806, 0.51428571,\n",
       "        0.79120879, 0.54022989, 0.        , 0.27631579, 0.76923077],\n",
       "       [0.52747253, 0.75531915, 0.91025641, 0.7761194 , 0.31428571,\n",
       "        0.3956044 , 0.66666667, 0.10447761, 0.19736842, 0.        ],\n",
       "       [0.        , 0.40425532, 0.47435897, 1.        , 0.85714286,\n",
       "        0.74725275, 0.33333333, 1.        , 0.        , 0.13186813],\n",
       "       [0.46153846, 0.90425532, 0.44871795, 0.88059701, 0.45714286,\n",
       "        1.        , 0.95402299, 0.80597015, 0.18421053, 1.        ]])"
      ]
     },
     "execution_count": 109,
     "metadata": {},
     "output_type": "execute_result"
    }
   ],
   "source": [
    "from sklearn import preprocessing\n",
    "\n",
    "A_scaled = preprocessing.MinMaxScaler().fit(A).transform(A)\n",
    "A_scaled"
   ]
  },
  {
   "cell_type": "markdown",
   "metadata": {},
   "source": [
    "- 2. Standard Scalar"
   ]
  },
  {
   "cell_type": "code",
   "execution_count": 110,
   "metadata": {},
   "outputs": [
    {
     "data": {
      "text/plain": [
       "array([[69, 90, 84, 15,  8, 38, 11, 30, 44, 19],\n",
       "       [ 5, 40, 84, 92, 77, 36, 40, 51, 80, 33],\n",
       "       [56, 72,  1, 50, 16, 83, 99, 48, 70, 42],\n",
       "       [47, 50, 56, 56, 25, 24, 22, 86, 20, 32],\n",
       "       [94, 93, 72, 21, 98, 78, 95, 10,  6, 86],\n",
       "       [89, 47, 24, 93, 68, 13, 10, 74, 70, 91],\n",
       "       [14, 27, 94, 67, 97, 31, 98, 53, 97, 35],\n",
       "       [19, 56, 78, 75, 82, 53, 67, 34, 25, 29],\n",
       "       [46, 16,  3, 27, 12, 32,  8, 73, 53, 58],\n",
       "       [37,  3, 96, 77, 13, 36, 21, 64, 66, 94]])"
      ]
     },
     "execution_count": 110,
     "metadata": {},
     "output_type": "execute_result"
    }
   ],
   "source": [
    "A = (100*np.random.rand(10,10)).astype(int)\n",
    "A"
   ]
  },
  {
   "cell_type": "code",
   "execution_count": 111,
   "metadata": {},
   "outputs": [],
   "source": [
    "A_ss = A - A.mean()/A.std()"
   ]
  },
  {
   "cell_type": "code",
   "execution_count": 112,
   "metadata": {},
   "outputs": [
    {
     "data": {
      "text/plain": [
       "array([[67.286851, 88.286851, 82.286851, 13.286851,  6.286851, 36.286851,\n",
       "         9.286851, 28.286851, 42.286851, 17.286851],\n",
       "       [ 3.286851, 38.286851, 82.286851, 90.286851, 75.286851, 34.286851,\n",
       "        38.286851, 49.286851, 78.286851, 31.286851],\n",
       "       [54.286851, 70.286851, -0.713149, 48.286851, 14.286851, 81.286851,\n",
       "        97.286851, 46.286851, 68.286851, 40.286851],\n",
       "       [45.286851, 48.286851, 54.286851, 54.286851, 23.286851, 22.286851,\n",
       "        20.286851, 84.286851, 18.286851, 30.286851],\n",
       "       [92.286851, 91.286851, 70.286851, 19.286851, 96.286851, 76.286851,\n",
       "        93.286851,  8.286851,  4.286851, 84.286851],\n",
       "       [87.286851, 45.286851, 22.286851, 91.286851, 66.286851, 11.286851,\n",
       "         8.286851, 72.286851, 68.286851, 89.286851],\n",
       "       [12.286851, 25.286851, 92.286851, 65.286851, 95.286851, 29.286851,\n",
       "        96.286851, 51.286851, 95.286851, 33.286851],\n",
       "       [17.286851, 54.286851, 76.286851, 73.286851, 80.286851, 51.286851,\n",
       "        65.286851, 32.286851, 23.286851, 27.286851],\n",
       "       [44.286851, 14.286851,  1.286851, 25.286851, 10.286851, 30.286851,\n",
       "         6.286851, 71.286851, 51.286851, 56.286851],\n",
       "       [35.286851,  1.286851, 94.286851, 75.286851, 11.286851, 34.286851,\n",
       "        19.286851, 62.286851, 64.286851, 92.286851]])"
      ]
     },
     "execution_count": 112,
     "metadata": {},
     "output_type": "execute_result"
    }
   ],
   "source": [
    "A_ss"
   ]
  },
  {
   "cell_type": "code",
   "execution_count": 113,
   "metadata": {},
   "outputs": [
    {
     "name": "stderr",
     "output_type": "stream",
     "text": [
      "C:\\ProgramData\\Anaconda3\\lib\\site-packages\\sklearn\\utils\\validation.py:595: DataConversionWarning: Data with input dtype int32 was converted to float64 by StandardScaler.\n",
      "  warnings.warn(msg, DataConversionWarning)\n",
      "C:\\ProgramData\\Anaconda3\\lib\\site-packages\\sklearn\\utils\\validation.py:595: DataConversionWarning: Data with input dtype int32 was converted to float64 by StandardScaler.\n",
      "  warnings.warn(msg, DataConversionWarning)\n"
     ]
    },
    {
     "data": {
      "text/plain": [
       "array([[ 0.74404296,  1.43827016,  0.71272608, -1.55982401, -1.15616234,\n",
       "        -0.20581431, -0.98088773, -1.0163594 , -0.33063813, -1.22230532],\n",
       "       [-1.48113224, -0.33299851,  0.71272608,  1.27957194,  0.76151077,\n",
       "        -0.29936627, -0.19291698, -0.05924965,  0.97738086, -0.70217539],\n",
       "       [ 0.29205425,  0.80061344, -1.67260716, -0.26918949, -0.93382343,\n",
       "         1.89910479,  1.41019593, -0.19597962,  0.61404225, -0.36780616],\n",
       "       [-0.02086102,  0.02125522, -0.09196466, -0.04793785, -0.68369215,\n",
       "        -0.86067803, -0.68200227,  1.53593327, -1.20265079, -0.73932753],\n",
       "       [ 1.61325202,  1.54454628,  0.36785862, -1.33857238,  1.34515042,\n",
       "         1.66522489,  1.30151031, -1.9278925 , -1.71132484,  1.26688788],\n",
       "       [ 1.43941021, -0.0850209 , -1.01161121,  1.31644722,  0.5113795 ,\n",
       "        -1.37521381, -1.00805913,  0.98901341,  0.61404225,  1.45264857],\n",
       "       [-1.16821698, -0.79352836,  1.00011562,  0.35769014,  1.31735805,\n",
       "        -0.53324617,  1.38302452,  0.03190366,  1.59505649, -0.62787112],\n",
       "       [-0.99437517,  0.23380746,  0.54029235,  0.65269232,  0.90047259,\n",
       "         0.49582539,  0.54071096, -0.83405278, -1.02098149, -0.85078394],\n",
       "       [-0.05562938, -1.18320747, -1.61512925, -1.11732075, -1.04499289,\n",
       "        -0.48647019, -1.06240194,  0.94343676, -0.00363339,  0.22662804],\n",
       "       [-0.36854464, -1.64373733,  1.05759353,  0.72644286, -1.01720052,\n",
       "        -0.29936627, -0.70917367,  0.53324686,  0.4687068 ,  1.56410498]])"
      ]
     },
     "execution_count": 113,
     "metadata": {},
     "output_type": "execute_result"
    }
   ],
   "source": [
    "from sklearn import preprocessing\n",
    "\n",
    "A_scaled = preprocessing.StandardScaler().fit(A).transform(A)\n",
    "A_scaled"
   ]
  },
  {
   "cell_type": "markdown",
   "metadata": {},
   "source": [
    "## Baye's Theorem"
   ]
  },
  {
   "cell_type": "markdown",
   "metadata": {},
   "source": [
    "<img src = \"https://miro.medium.com/max/1994/1*CnoTGGO7XeUpUMeXDrIfvA.png\" height=400 width=550> <img>"
   ]
  },
  {
   "cell_type": "markdown",
   "metadata": {},
   "source": [
    "Important Topics:\n",
    "1. [Bayesian Classifier](https://scikit-learn.org/stable/modules/naive_bayes.html)\n",
    "2. [Boltzman Machine](https://en.wikipedia.org/wiki/Restricted_Boltzmann_machine)\n",
    "4. [Quantum Boltzman Machine](https://arxiv.org/abs/1601.02036)"
   ]
  },
  {
   "cell_type": "code",
   "execution_count": 48,
   "metadata": {},
   "outputs": [
    {
     "data": {
      "text/plain": [
       "array([[56, 71, 59, 85],\n",
       "       [61,  9, 64, 66],\n",
       "       [ 5,  4, 11, 45],\n",
       "       [13, 21, 21, 36],\n",
       "       [87,  4, 59, 73],\n",
       "       [72, 46, 36, 60],\n",
       "       [98, 94, 85, 21],\n",
       "       [98, 20, 83,  3],\n",
       "       [ 6, 52, 10, 54],\n",
       "       [94, 26, 87, 98]])"
      ]
     },
     "execution_count": 48,
     "metadata": {},
     "output_type": "execute_result"
    }
   ],
   "source": [
    "A = (100*np.random.rand(10,4)).astype(int)\n",
    "A "
   ]
  },
  {
   "cell_type": "code",
   "execution_count": 49,
   "metadata": {},
   "outputs": [],
   "source": [
    "df = pd.DataFrame(A, columns= ['bud','green','ripen','rotten'],\\\n",
    "                  index= ['apple','guava','mango','orange','banana','pear','papaya','strwberrey','grape','melon'])"
   ]
  },
  {
   "cell_type": "code",
   "execution_count": 50,
   "metadata": {},
   "outputs": [
    {
     "data": {
      "text/html": [
       "<div>\n",
       "<style scoped>\n",
       "    .dataframe tbody tr th:only-of-type {\n",
       "        vertical-align: middle;\n",
       "    }\n",
       "\n",
       "    .dataframe tbody tr th {\n",
       "        vertical-align: top;\n",
       "    }\n",
       "\n",
       "    .dataframe thead th {\n",
       "        text-align: right;\n",
       "    }\n",
       "</style>\n",
       "<table border=\"1\" class=\"dataframe\">\n",
       "  <thead>\n",
       "    <tr style=\"text-align: right;\">\n",
       "      <th></th>\n",
       "      <th>bud</th>\n",
       "      <th>green</th>\n",
       "      <th>ripen</th>\n",
       "      <th>rotten</th>\n",
       "    </tr>\n",
       "  </thead>\n",
       "  <tbody>\n",
       "    <tr>\n",
       "      <th>apple</th>\n",
       "      <td>56</td>\n",
       "      <td>71</td>\n",
       "      <td>59</td>\n",
       "      <td>85</td>\n",
       "    </tr>\n",
       "    <tr>\n",
       "      <th>guava</th>\n",
       "      <td>61</td>\n",
       "      <td>9</td>\n",
       "      <td>64</td>\n",
       "      <td>66</td>\n",
       "    </tr>\n",
       "    <tr>\n",
       "      <th>mango</th>\n",
       "      <td>5</td>\n",
       "      <td>4</td>\n",
       "      <td>11</td>\n",
       "      <td>45</td>\n",
       "    </tr>\n",
       "    <tr>\n",
       "      <th>orange</th>\n",
       "      <td>13</td>\n",
       "      <td>21</td>\n",
       "      <td>21</td>\n",
       "      <td>36</td>\n",
       "    </tr>\n",
       "    <tr>\n",
       "      <th>banana</th>\n",
       "      <td>87</td>\n",
       "      <td>4</td>\n",
       "      <td>59</td>\n",
       "      <td>73</td>\n",
       "    </tr>\n",
       "    <tr>\n",
       "      <th>pear</th>\n",
       "      <td>72</td>\n",
       "      <td>46</td>\n",
       "      <td>36</td>\n",
       "      <td>60</td>\n",
       "    </tr>\n",
       "    <tr>\n",
       "      <th>papaya</th>\n",
       "      <td>98</td>\n",
       "      <td>94</td>\n",
       "      <td>85</td>\n",
       "      <td>21</td>\n",
       "    </tr>\n",
       "    <tr>\n",
       "      <th>strwberrey</th>\n",
       "      <td>98</td>\n",
       "      <td>20</td>\n",
       "      <td>83</td>\n",
       "      <td>3</td>\n",
       "    </tr>\n",
       "    <tr>\n",
       "      <th>grape</th>\n",
       "      <td>6</td>\n",
       "      <td>52</td>\n",
       "      <td>10</td>\n",
       "      <td>54</td>\n",
       "    </tr>\n",
       "    <tr>\n",
       "      <th>melon</th>\n",
       "      <td>94</td>\n",
       "      <td>26</td>\n",
       "      <td>87</td>\n",
       "      <td>98</td>\n",
       "    </tr>\n",
       "  </tbody>\n",
       "</table>\n",
       "</div>"
      ],
      "text/plain": [
       "            bud  green  ripen  rotten\n",
       "apple        56     71     59      85\n",
       "guava        61      9     64      66\n",
       "mango         5      4     11      45\n",
       "orange       13     21     21      36\n",
       "banana       87      4     59      73\n",
       "pear         72     46     36      60\n",
       "papaya       98     94     85      21\n",
       "strwberrey   98     20     83       3\n",
       "grape         6     52     10      54\n",
       "melon        94     26     87      98"
      ]
     },
     "execution_count": 50,
     "metadata": {},
     "output_type": "execute_result"
    }
   ],
   "source": [
    "df"
   ]
  },
  {
   "cell_type": "code",
   "execution_count": 64,
   "metadata": {},
   "outputs": [
    {
     "data": {
      "text/plain": [
       "bud       590\n",
       "green     347\n",
       "ripen     515\n",
       "rotten    541\n",
       "dtype: int64"
      ]
     },
     "execution_count": 64,
     "metadata": {},
     "output_type": "execute_result"
    }
   ],
   "source": [
    "df.sum()"
   ]
  },
  {
   "cell_type": "code",
   "execution_count": 63,
   "metadata": {},
   "outputs": [
    {
     "data": {
      "text/plain": [
       "1993"
      ]
     },
     "execution_count": 63,
     "metadata": {},
     "output_type": "execute_result"
    }
   ],
   "source": [
    "sum(df.sum())"
   ]
  },
  {
   "cell_type": "code",
   "execution_count": 53,
   "metadata": {},
   "outputs": [
    {
     "data": {
      "text/plain": [
       "56"
      ]
     },
     "execution_count": 53,
     "metadata": {},
     "output_type": "execute_result"
    }
   ],
   "source": [
    "df.loc['apple','bud']"
   ]
  },
  {
   "cell_type": "code",
   "execution_count": 54,
   "metadata": {},
   "outputs": [
    {
     "data": {
      "text/plain": [
       "bud       56\n",
       "green     71\n",
       "ripen     59\n",
       "rotten    85\n",
       "Name: apple, dtype: int32"
      ]
     },
     "execution_count": 54,
     "metadata": {},
     "output_type": "execute_result"
    }
   ],
   "source": [
    "df.loc['apple',:]"
   ]
  },
  {
   "cell_type": "code",
   "execution_count": 55,
   "metadata": {},
   "outputs": [
    {
     "data": {
      "text/plain": [
       "apple         59\n",
       "guava         64\n",
       "mango         11\n",
       "orange        21\n",
       "banana        59\n",
       "pear          36\n",
       "papaya        85\n",
       "strwberrey    83\n",
       "grape         10\n",
       "melon         87\n",
       "Name: ripen, dtype: int32"
      ]
     },
     "execution_count": 55,
     "metadata": {},
     "output_type": "execute_result"
    }
   ],
   "source": [
    "df.loc[:,'ripen']"
   ]
  },
  {
   "cell_type": "markdown",
   "metadata": {},
   "source": [
    "- P(ripen|apple) = ?"
   ]
  },
  {
   "cell_type": "code",
   "execution_count": 58,
   "metadata": {},
   "outputs": [
    {
     "data": {
      "text/plain": [
       "0.2177121771217712"
      ]
     },
     "execution_count": 58,
     "metadata": {},
     "output_type": "execute_result"
    }
   ],
   "source": [
    "df.loc['apple','ripen']/df.loc['apple',:].sum()"
   ]
  },
  {
   "cell_type": "markdown",
   "metadata": {},
   "source": [
    "- P(apple|ripen) = ?"
   ]
  },
  {
   "cell_type": "code",
   "execution_count": 59,
   "metadata": {},
   "outputs": [
    {
     "data": {
      "text/plain": [
       "0.1145631067961165"
      ]
     },
     "execution_count": 59,
     "metadata": {},
     "output_type": "execute_result"
    }
   ],
   "source": [
    "df.loc['apple','ripen']/df.loc[:,'ripen'].sum()"
   ]
  },
  {
   "cell_type": "markdown",
   "metadata": {},
   "source": [
    "#### Implementing Baye's theorem"
   ]
  },
  {
   "cell_type": "markdown",
   "metadata": {},
   "source": [
    "- $P(apple|ripen) = \\frac{p(ripen|apple)*p(apple)}{p(ripen)}$"
   ]
  },
  {
   "cell_type": "code",
   "execution_count": 66,
   "metadata": {},
   "outputs": [
    {
     "data": {
      "text/plain": [
       "0.1145631067961165"
      ]
     },
     "execution_count": 66,
     "metadata": {},
     "output_type": "execute_result"
    }
   ],
   "source": [
    "p_apple = df.loc['apple',:].sum()/sum(df.sum())\n",
    "p_ripen_given_apple = df.loc['apple','ripen']/df.loc['apple',:].sum()\n",
    "p_ripen = df.loc[:,'ripen'].sum()/sum(df.sum())\n",
    "\n",
    "p_apple_given_ripen = (p_ripen_given_apple*p_apple)/p_ripen\n",
    "p_apple_given_ripen"
   ]
  },
  {
   "cell_type": "markdown",
   "metadata": {},
   "source": [
    "#### Mini Assignment:\n",
    "1. Generate a randum array of size 10 by 10 and convert it to pandas dataframe with column name and row name of your interest\n",
    "2. Perform feature scaling (minimax scalar and standard scalar) by direct calculation of minimunm, maximum, mean, standard deviation from dataframe/array\n",
    "3. Implement Scikit-learn preprocessing pipeline to perform feature scaling"
   ]
  },
  {
   "cell_type": "code",
   "execution_count": null,
   "metadata": {},
   "outputs": [],
   "source": []
  },
  {
   "cell_type": "code",
   "execution_count": null,
   "metadata": {},
   "outputs": [],
   "source": []
  },
  {
   "cell_type": "code",
   "execution_count": null,
   "metadata": {},
   "outputs": [],
   "source": []
  },
  {
   "cell_type": "markdown",
   "metadata": {},
   "source": []
  }
 ],
 "metadata": {
  "kernelspec": {
   "display_name": "Python 3",
   "language": "python",
   "name": "python3"
  },
  "language_info": {
   "codemirror_mode": {
    "name": "ipython",
    "version": 3
   },
   "file_extension": ".py",
   "mimetype": "text/x-python",
   "name": "python",
   "nbconvert_exporter": "python",
   "pygments_lexer": "ipython3",
   "version": "3.7.3"
  },
  "widgets": {
   "state": {},
   "version": "1.1.2"
  }
 },
 "nbformat": 4,
 "nbformat_minor": 2
}
